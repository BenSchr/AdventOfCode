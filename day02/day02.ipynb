{
 "cells": [
  {
   "cell_type": "code",
   "execution_count": 1,
   "id": "eaf7468b",
   "metadata": {},
   "outputs": [],
   "source": [
    "from itertools import groupby\n",
    "from collections import defaultdict"
   ]
  },
  {
   "cell_type": "markdown",
   "id": "509a39bf",
   "metadata": {},
   "source": [
    "### Functions"
   ]
  },
  {
   "cell_type": "code",
   "execution_count": 2,
   "id": "1d100ce6",
   "metadata": {},
   "outputs": [],
   "source": [
    "def readlines(path:str):\n",
    "    with open(path, 'r') as f:\n",
    "        data = [row.split() for row in f.readlines()]\n",
    "    return data"
   ]
  },
  {
   "cell_type": "code",
   "execution_count": 3,
   "id": "577b428d",
   "metadata": {},
   "outputs": [],
   "source": [
    "def calculateSolution(data:list):\n",
    "    result=defaultdict(int)\n",
    "    for key, value in data:\n",
    "        result[key] += int(value)\n",
    "    \n",
    "    h=result[\"forward\"]\n",
    "    v=result[\"down\"]-result[\"up\"]\n",
    "    print(f\"Horizontal: {h} | Vertical {v}\")\n",
    "    return h*v"
   ]
  },
  {
   "cell_type": "code",
   "execution_count": 4,
   "id": "7eb89619",
   "metadata": {},
   "outputs": [],
   "source": [
    "def calculateSolution2(data:list):\n",
    "    h,v,aim = 0,0,0\n",
    "    for key, value in data:\n",
    "        value=int(value)\n",
    "        if key == \"forward\":\n",
    "            h+=value\n",
    "            v+=aim*value\n",
    "        elif key == 'down':\n",
    "            aim += value\n",
    "        else: #up\n",
    "            aim -= value\n",
    "\n",
    "    print(f\"Horizontal: {h} | Vertical {v}\")\n",
    "    return h*v"
   ]
  },
  {
   "cell_type": "markdown",
   "id": "adc47aa1",
   "metadata": {},
   "source": [
    "### Load data"
   ]
  },
  {
   "cell_type": "code",
   "execution_count": 5,
   "id": "de8e7b57",
   "metadata": {},
   "outputs": [],
   "source": [
    "testdata=readlines(\"data/test02.txt\")\n",
    "data=readlines(\"data/day02.txt\")"
   ]
  },
  {
   "cell_type": "markdown",
   "id": "d95d0db4",
   "metadata": {},
   "source": [
    "### Test"
   ]
  },
  {
   "cell_type": "code",
   "execution_count": 6,
   "id": "88e530f6",
   "metadata": {},
   "outputs": [
    {
     "name": "stdout",
     "output_type": "stream",
     "text": [
      "Horizontal: 15 | Vertical 10\n",
      "Horizontal: 15 | Vertical 60\n"
     ]
    }
   ],
   "source": [
    "assert calculateSolution(testdata)==150, f'Wrong: {calculateSolution(testdata)} Expected: 150'\n",
    "assert calculateSolution2(testdata)==900, f'Wrong: {calculateSolution2(testdata)} Expected: 900'"
   ]
  },
  {
   "cell_type": "markdown",
   "id": "2bad715f",
   "metadata": {},
   "source": [
    "### Solution 1"
   ]
  },
  {
   "cell_type": "code",
   "execution_count": 7,
   "id": "c51878f5",
   "metadata": {},
   "outputs": [
    {
     "name": "stdout",
     "output_type": "stream",
     "text": [
      "Horizontal: 1895 | Vertical 894\n"
     ]
    },
    {
     "data": {
      "text/plain": [
       "1694130"
      ]
     },
     "execution_count": 7,
     "metadata": {},
     "output_type": "execute_result"
    }
   ],
   "source": [
    "calculateSolution(data)"
   ]
  },
  {
   "cell_type": "markdown",
   "id": "98e6a80f",
   "metadata": {},
   "source": [
    "### Solution 2"
   ]
  },
  {
   "cell_type": "code",
   "execution_count": 8,
   "id": "4427d8f5",
   "metadata": {},
   "outputs": [
    {
     "name": "stdout",
     "output_type": "stream",
     "text": [
      "Horizontal: 1895 | Vertical 896491\n"
     ]
    },
    {
     "data": {
      "text/plain": [
       "1698850445"
      ]
     },
     "execution_count": 8,
     "metadata": {},
     "output_type": "execute_result"
    }
   ],
   "source": [
    "calculateSolution2(data)"
   ]
  },
  {
   "cell_type": "code",
   "execution_count": null,
   "id": "39a92b38",
   "metadata": {},
   "outputs": [],
   "source": []
  }
 ],
 "metadata": {
  "kernelspec": {
   "display_name": "Python 3 (ipykernel)",
   "language": "python",
   "name": "python3"
  },
  "language_info": {
   "codemirror_mode": {
    "name": "ipython",
    "version": 3
   },
   "file_extension": ".py",
   "mimetype": "text/x-python",
   "name": "python",
   "nbconvert_exporter": "python",
   "pygments_lexer": "ipython3",
   "version": "3.8.8"
  }
 },
 "nbformat": 4,
 "nbformat_minor": 5
}

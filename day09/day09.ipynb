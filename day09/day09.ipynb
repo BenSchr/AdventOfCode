{
 "cells": [
  {
   "cell_type": "code",
   "execution_count": 1,
   "id": "8a0a179e",
   "metadata": {},
   "outputs": [],
   "source": [
    "import numpy as np"
   ]
  },
  {
   "cell_type": "markdown",
   "id": "3e5ce962",
   "metadata": {},
   "source": [
    "### Functions"
   ]
  },
  {
   "cell_type": "code",
   "execution_count": 2,
   "id": "bc48cfdf",
   "metadata": {},
   "outputs": [],
   "source": [
    "def readlines(path:str):\n",
    "    with open(path, 'r') as f:\n",
    "        data = np.stack([np.array(list(x.strip())).astype(int) for x in f.readlines()])\n",
    "    return data"
   ]
  },
  {
   "cell_type": "code",
   "execution_count": 3,
   "id": "355bffa1",
   "metadata": {},
   "outputs": [],
   "source": [
    "def getNeighbours(data,point):\n",
    "    compass=np.array([(0,1),(1,0),(-1,0),(0,-1)])\n",
    "    nP=[tuple(i+point) for i in compass if (i+point).min()>=0 and all((i+point)<data.shape)]\n",
    "    nV=[data[p] for p in nP]\n",
    "    return nP,nV"
   ]
  },
  {
   "cell_type": "code",
   "execution_count": 4,
   "id": "dcc2b40e",
   "metadata": {},
   "outputs": [],
   "source": [
    "def getLowPoints(data,test=False):\n",
    "    rows,cols=data.shape\n",
    "    \n",
    "    newArray=np.zeros(data.shape,dtype=int)\n",
    "    \n",
    "    for row in range(0,rows):\n",
    "        for col in range(0,cols):\n",
    "            v=data[row][col]\n",
    "            n=getNeighbours(data,(row,col))[1]\n",
    "            newArray[row][col]=all([v < i for i in n])\n",
    "            \n",
    "    if test: print(f\"Data:\\n{data}\")\n",
    "    if test: print(f\"Lowpoints at:\\n{newArray}\")\n",
    "    \n",
    "    return newArray"
   ]
  },
  {
   "cell_type": "code",
   "execution_count": 5,
   "id": "00b2ecc2",
   "metadata": {},
   "outputs": [],
   "source": [
    "def getBasin(data,lowPoint,r):\n",
    "    oV=data[lowPoint]\n",
    "    n,v=getNeighbours(data,lowPoint)\n",
    "    nP=[(x,y) for x,y in zip(n,v) if y!=9]\n",
    "    if lowPoint not in r: r.append(lowPoint)\n",
    "    for p in nP:\n",
    "        if p[0] not in r:\n",
    "            r=getBasin(data,p[0],r)\n",
    "    \n",
    "    return r"
   ]
  },
  {
   "cell_type": "code",
   "execution_count": 6,
   "id": "81222568",
   "metadata": {},
   "outputs": [],
   "source": [
    "def calculateRisk(data,test=False):\n",
    "    low=getLowPoints(data,test)\n",
    "    lV=data[np.where(low==1)]\n",
    "\n",
    "    if test: print(f\"LowpointValues: {lV}\")\n",
    "    if test: print(f\"Risk: {sum(lV+1)}\")\n",
    "    return sum(lV+1)"
   ]
  },
  {
   "cell_type": "code",
   "execution_count": 7,
   "id": "6c5fe2c6",
   "metadata": {},
   "outputs": [],
   "source": [
    "def printBasins(data,basins):\n",
    "    rows,cols=data.shape\n",
    "    newArray=np.zeros(data.shape,dtype=int)\n",
    "    for p in basins:\n",
    "        newArray[p]=data[p]\n",
    "        \n",
    "    print(\"Areas:\")\n",
    "    print(newArray)"
   ]
  },
  {
   "cell_type": "code",
   "execution_count": 8,
   "id": "69faafab",
   "metadata": {},
   "outputs": [],
   "source": [
    "def calculateRisk2(data,test=False):\n",
    "    low=getLowPoints(data,test)\n",
    "    lowCoords=tuple(zip(*np.where(low==1)))\n",
    "    basins=[]\n",
    "    for l in lowCoords:\n",
    "        basins.append(getBasin(data,l,[]))\n",
    "        \n",
    "    result=(np.prod(np.sort([len(x) for x in basins])[-3:]))\n",
    "        \n",
    "    if test:printBasins(data,sum(basins, []))\n",
    "    if test:print(f\"Risk: {result}\")\n",
    "    \n",
    "    return result"
   ]
  },
  {
   "cell_type": "markdown",
   "id": "08821b1b",
   "metadata": {},
   "source": [
    "### Load data"
   ]
  },
  {
   "cell_type": "code",
   "execution_count": 9,
   "id": "32180a41",
   "metadata": {},
   "outputs": [],
   "source": [
    "testdata=readlines(\"data/test09.txt\")\n",
    "data=readlines(\"data/data09.txt\")"
   ]
  },
  {
   "cell_type": "markdown",
   "id": "541e1b5e",
   "metadata": {},
   "source": [
    "### Tests"
   ]
  },
  {
   "cell_type": "code",
   "execution_count": 10,
   "id": "d05d4857",
   "metadata": {},
   "outputs": [
    {
     "name": "stdout",
     "output_type": "stream",
     "text": [
      "Data:\n",
      "[[2 1 9 9 9 4 3 2 1 0]\n",
      " [3 9 8 7 8 9 4 9 2 1]\n",
      " [9 8 5 6 7 8 9 8 9 2]\n",
      " [8 7 6 7 8 9 6 7 8 9]\n",
      " [9 8 9 9 9 6 5 6 7 8]]\n",
      "Lowpoints at:\n",
      "[[0 1 0 0 0 0 0 0 0 1]\n",
      " [0 0 0 0 0 0 0 0 0 0]\n",
      " [0 0 1 0 0 0 0 0 0 0]\n",
      " [0 0 0 0 0 0 0 0 0 0]\n",
      " [0 0 0 0 0 0 1 0 0 0]]\n",
      "Areas:\n",
      "[[2 1 0 0 0 4 3 2 1 0]\n",
      " [3 0 8 7 8 0 4 0 2 1]\n",
      " [0 8 5 6 7 8 0 8 0 2]\n",
      " [8 7 6 7 8 0 6 7 8 0]\n",
      " [0 8 0 0 0 6 5 6 7 8]]\n",
      "Risk: 1134\n"
     ]
    }
   ],
   "source": [
    "assert calculateRisk(testdata)==15\n",
    "assert calculateRisk2(testdata,True)==1134"
   ]
  },
  {
   "cell_type": "markdown",
   "id": "e7074cae",
   "metadata": {},
   "source": [
    "### Solution 1"
   ]
  },
  {
   "cell_type": "code",
   "execution_count": 11,
   "id": "0807de47",
   "metadata": {},
   "outputs": [
    {
     "data": {
      "text/plain": [
       "541"
      ]
     },
     "execution_count": 11,
     "metadata": {},
     "output_type": "execute_result"
    }
   ],
   "source": [
    "calculateRisk(data)"
   ]
  },
  {
   "cell_type": "markdown",
   "id": "17330787",
   "metadata": {},
   "source": [
    "### Solution 2"
   ]
  },
  {
   "cell_type": "code",
   "execution_count": 12,
   "id": "f9dec924",
   "metadata": {},
   "outputs": [
    {
     "data": {
      "text/plain": [
       "847504"
      ]
     },
     "execution_count": 12,
     "metadata": {},
     "output_type": "execute_result"
    }
   ],
   "source": [
    "calculateRisk2(data)"
   ]
  }
 ],
 "metadata": {
  "kernelspec": {
   "display_name": "Python 3 (ipykernel)",
   "language": "python",
   "name": "python3"
  },
  "language_info": {
   "codemirror_mode": {
    "name": "ipython",
    "version": 3
   },
   "file_extension": ".py",
   "mimetype": "text/x-python",
   "name": "python",
   "nbconvert_exporter": "python",
   "pygments_lexer": "ipython3",
   "version": "3.8.8"
  }
 },
 "nbformat": 4,
 "nbformat_minor": 5
}

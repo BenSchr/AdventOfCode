{
 "cells": [
  {
   "cell_type": "code",
   "execution_count": 1,
   "id": "891c1c12",
   "metadata": {},
   "outputs": [],
   "source": [
    "import re\n",
    "from collections import Counter\n",
    "from datetime import datetime"
   ]
  },
  {
   "cell_type": "markdown",
   "id": "6682052d",
   "metadata": {},
   "source": [
    "### Functions"
   ]
  },
  {
   "cell_type": "code",
   "execution_count": 2,
   "id": "b658dc28",
   "metadata": {},
   "outputs": [],
   "source": [
    "def readlines(path:str):\n",
    "    with open(path, 'r') as f:\n",
    "        content=f.read().split(\"\\n\\n\")\n",
    "        start = list(content[0].split(\"\\n\")[0])\n",
    "        codeMap=dict(re.findall(\"(\\w+) -> (\\w+)\",content[1]))\n",
    "    \n",
    "    return start,codeMap"
   ]
  },
  {
   "cell_type": "code",
   "execution_count": 4,
   "id": "136326a5",
   "metadata": {},
   "outputs": [],
   "source": [
    "def runStep(counter,charCounter,codemap):\n",
    "    \n",
    "    tempc=Counter()\n",
    "    for key,value in counter.items():\n",
    "        \n",
    "        newChar=codemap[\"\".join(key)]\n",
    "        \n",
    "        charCounter[newChar]+=value\n",
    "        \n",
    "        tempc[(key[0],newChar)]+=value\n",
    "        tempc[(newChar,key[1])]+=value\n",
    "    \n",
    "    return tempc,charCounter\n",
    "\n"
   ]
  },
  {
   "cell_type": "code",
   "execution_count": 5,
   "id": "a1a01736",
   "metadata": {},
   "outputs": [],
   "source": [
    "def solution(data,codemap,steps):\n",
    "    c=Counter(zip(data,data[1:]))\n",
    "    charC=Counter(data)\n",
    "    for i in range(steps):\n",
    "        start=datetime.now()\n",
    "        c,charC=runStep(c,charC,codemap)\n",
    "\n",
    "    return charC.most_common()[0][1]-charC.most_common()[-1][1]"
   ]
  },
  {
   "cell_type": "markdown",
   "id": "f101d9a8",
   "metadata": {},
   "source": [
    "### Load data"
   ]
  },
  {
   "cell_type": "code",
   "execution_count": 3,
   "id": "0176b4e2",
   "metadata": {},
   "outputs": [],
   "source": [
    "testdata,testmap=readlines(\"data/test14.txt\")\n",
    "data,codemap=readlines(\"data/data14.txt\")"
   ]
  },
  {
   "cell_type": "markdown",
   "id": "18346b47",
   "metadata": {},
   "source": [
    "### Tests"
   ]
  },
  {
   "cell_type": "code",
   "execution_count": 6,
   "id": "0d2df123",
   "metadata": {},
   "outputs": [],
   "source": [
    "assert solution(testdata,testmap,10)==1588\n",
    "assert solution(testdata,testmap,40)==2188189693529"
   ]
  },
  {
   "cell_type": "markdown",
   "id": "bea1fc72",
   "metadata": {},
   "source": [
    "### Solution 1"
   ]
  },
  {
   "cell_type": "code",
   "execution_count": 7,
   "id": "bc481361",
   "metadata": {},
   "outputs": [
    {
     "data": {
      "text/plain": [
       "2584"
      ]
     },
     "execution_count": 7,
     "metadata": {},
     "output_type": "execute_result"
    }
   ],
   "source": [
    "solution(data,codemap,10)"
   ]
  },
  {
   "cell_type": "markdown",
   "id": "ad107519",
   "metadata": {},
   "source": [
    "### Solution 2"
   ]
  },
  {
   "cell_type": "code",
   "execution_count": 8,
   "id": "f19180af",
   "metadata": {},
   "outputs": [
    {
     "data": {
      "text/plain": [
       "3816397135460"
      ]
     },
     "execution_count": 8,
     "metadata": {},
     "output_type": "execute_result"
    }
   ],
   "source": [
    "solution(data,codemap,40)"
   ]
  }
 ],
 "metadata": {
  "kernelspec": {
   "display_name": "Python 3 (ipykernel)",
   "language": "python",
   "name": "python3"
  },
  "language_info": {
   "codemirror_mode": {
    "name": "ipython",
    "version": 3
   },
   "file_extension": ".py",
   "mimetype": "text/x-python",
   "name": "python",
   "nbconvert_exporter": "python",
   "pygments_lexer": "ipython3",
   "version": "3.8.8"
  }
 },
 "nbformat": 4,
 "nbformat_minor": 5
}

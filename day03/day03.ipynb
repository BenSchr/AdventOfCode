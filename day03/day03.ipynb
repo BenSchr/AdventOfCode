{
 "cells": [
  {
   "cell_type": "code",
   "execution_count": 1,
   "id": "ac8e4837",
   "metadata": {},
   "outputs": [],
   "source": [
    "import numpy as np"
   ]
  },
  {
   "cell_type": "markdown",
   "id": "a5a3267d",
   "metadata": {},
   "source": [
    "### Functions"
   ]
  },
  {
   "cell_type": "code",
   "execution_count": 2,
   "id": "e9dbfcd2",
   "metadata": {},
   "outputs": [],
   "source": [
    "def readlines(path:str):\n",
    "    with open(path, 'r') as f:\n",
    "        data = [np.array(list(row.strip())).astype(int) for row in f.readlines()]\n",
    "    return np.stack(data)"
   ]
  },
  {
   "cell_type": "code",
   "execution_count": 3,
   "id": "0192cdd4",
   "metadata": {},
   "outputs": [],
   "source": [
    "def countBinary(data:np.ndarray,function):\n",
    "    size=data[0].size\n",
    "    result=[]\n",
    "    for i in range(0,size):\n",
    "        result.append(function(np.bincount(np.stack(data)[:,i])))\n",
    "        \n",
    "    return result"
   ]
  },
  {
   "cell_type": "code",
   "execution_count": 4,
   "id": "a3930a39",
   "metadata": {},
   "outputs": [],
   "source": [
    "def binaryToDecimal(binary:list):\n",
    "    return sum(v*(2**i) for i, v in enumerate(reversed(binary)))"
   ]
  },
  {
   "cell_type": "code",
   "execution_count": 5,
   "id": "f44b6943",
   "metadata": {},
   "outputs": [],
   "source": [
    "def calculateSolution1(data:np.ndarray):\n",
    "    maxDecimal=binaryToDecimal(countBinary(data,np.argmax))\n",
    "    minDecimal=binaryToDecimal(countBinary(data,np.argmin))\n",
    "    return maxDecimal*minDecimal"
   ]
  },
  {
   "cell_type": "code",
   "execution_count": 6,
   "id": "3f5740e0",
   "metadata": {
    "scrolled": false
   },
   "outputs": [],
   "source": [
    "def filterBinary(data:np.ndarray,function=np.argmin):\n",
    "    size=data[0].size\n",
    "    result=data.copy()\n",
    "    for i in range(0,size):\n",
    "        count=np.bincount(np.stack(result)[:,i])\n",
    "        \n",
    "        if count[0]==count[1]:\n",
    "            \n",
    "            tmpByte= 0 if function==np.argmin else 1\n",
    "            \n",
    "        else:\n",
    "            tmpByte=function(np.bincount(np.stack(result)[:,i]))\n",
    "            \n",
    "        result=result[np.where(result[:,i] == tmpByte)]\n",
    "        \n",
    "        if len(result)==1:\n",
    "            return result[0]\n",
    "        \n",
    "    return result"
   ]
  },
  {
   "cell_type": "code",
   "execution_count": 7,
   "id": "b17f1594",
   "metadata": {},
   "outputs": [],
   "source": [
    "def calculateSolution2(data:np.ndarray):\n",
    "    maxDecimal=binaryToDecimal(filterBinary(data,np.argmax))\n",
    "    minDecimal=binaryToDecimal(filterBinary(data,np.argmin))\n",
    "    return maxDecimal*minDecimal"
   ]
  },
  {
   "cell_type": "markdown",
   "id": "557cceef",
   "metadata": {},
   "source": [
    "### Load data"
   ]
  },
  {
   "cell_type": "code",
   "execution_count": 8,
   "id": "311c16ef",
   "metadata": {},
   "outputs": [],
   "source": [
    "testdata=readlines(\"data/test03.txt\")\n",
    "data=readlines(\"data/day03.txt\")"
   ]
  },
  {
   "cell_type": "markdown",
   "id": "6b148b5d",
   "metadata": {},
   "source": [
    "### Tests"
   ]
  },
  {
   "cell_type": "code",
   "execution_count": 9,
   "id": "fe4cd8f5",
   "metadata": {},
   "outputs": [],
   "source": [
    "assert calculateSolution1(testdata)==198\n",
    "assert calculateSolution2(testdata)==230"
   ]
  },
  {
   "cell_type": "markdown",
   "id": "f0000b35",
   "metadata": {},
   "source": [
    "### Solution 1"
   ]
  },
  {
   "cell_type": "code",
   "execution_count": 10,
   "id": "4c8ca073",
   "metadata": {},
   "outputs": [
    {
     "data": {
      "text/plain": [
       "3901196"
      ]
     },
     "execution_count": 10,
     "metadata": {},
     "output_type": "execute_result"
    }
   ],
   "source": [
    "calculateSolution1(data)"
   ]
  },
  {
   "cell_type": "markdown",
   "id": "eff3097c",
   "metadata": {},
   "source": [
    "### Solution 2"
   ]
  },
  {
   "cell_type": "code",
   "execution_count": 11,
   "id": "b21205e1",
   "metadata": {},
   "outputs": [
    {
     "data": {
      "text/plain": [
       "4412188"
      ]
     },
     "execution_count": 11,
     "metadata": {},
     "output_type": "execute_result"
    }
   ],
   "source": [
    "calculateSolution2(data)"
   ]
  },
  {
   "cell_type": "code",
   "execution_count": null,
   "id": "52dbeffd",
   "metadata": {},
   "outputs": [],
   "source": []
  }
 ],
 "metadata": {
  "kernelspec": {
   "display_name": "Python 3 (ipykernel)",
   "language": "python",
   "name": "python3"
  },
  "language_info": {
   "codemirror_mode": {
    "name": "ipython",
    "version": 3
   },
   "file_extension": ".py",
   "mimetype": "text/x-python",
   "name": "python",
   "nbconvert_exporter": "python",
   "pygments_lexer": "ipython3",
   "version": "3.8.8"
  }
 },
 "nbformat": 4,
 "nbformat_minor": 5
}

{
 "cells": [
  {
   "cell_type": "code",
   "execution_count": 1,
   "id": "891c1c12",
   "metadata": {},
   "outputs": [],
   "source": [
    "import re\n",
    "import math"
   ]
  },
  {
   "cell_type": "markdown",
   "id": "6682052d",
   "metadata": {},
   "source": [
    "### Functions"
   ]
  },
  {
   "cell_type": "code",
   "execution_count": 2,
   "id": "55d3ada3",
   "metadata": {},
   "outputs": [],
   "source": [
    "def readlines(path):\n",
    "    with open(path) as f:\n",
    "        input = f.readline()\n",
    "        m = re.search(\".* x=(.*), y=(.*)\", input)\n",
    "        x=tuple(map(int,m.group(1).split(\"..\")))\n",
    "        y=tuple(map(int,m.group(2).split(\"..\")))\n",
    "    return x,y"
   ]
  },
  {
   "cell_type": "code",
   "execution_count": 3,
   "id": "1c04cbc1",
   "metadata": {},
   "outputs": [],
   "source": [
    "def calculateBestXY(x_min,y_min):\n",
    "    bestX=round(math.sqrt((x_min*2)+1/4)-0.5) # reverse Gauss-Sum\n",
    "    bestY=y_min*(y_min+1) // 2                # Gauss-Sum\n",
    "\n",
    "    return bestX,bestY"
   ]
  },
  {
   "cell_type": "code",
   "execution_count": 4,
   "id": "ece7edbd",
   "metadata": {},
   "outputs": [],
   "source": [
    "def calculateShots(data):\n",
    "    minX=data[0][0]\n",
    "    maxX=data[0][1]\n",
    "    minY=data[1][0]\n",
    "    maxY=data[1][1]\n",
    "\n",
    "    bestX=round(math.sqrt((minX*2)+1/4)-0.5)\n",
    "\n",
    "    result=((maxX-minX)+1)*((maxY-minY)+1) #direct shots\n",
    "\n",
    "    for y in range(maxY+1,abs(minY)+1):\n",
    "        for x in range(bestX,(maxX//2)+1):\n",
    "            vX,vY=x,y\n",
    "            tX,tY=x,y\n",
    "            while  vX <= maxX and vY >= minY:\n",
    "                if vX >= minX and vY <= maxY:\n",
    "                    result+=1\n",
    "                    break\n",
    "                \n",
    "                tX-=1\n",
    "                tY-=1\n",
    "                vX+=max(0,tX)\n",
    "                vY+=tY\n",
    "\n",
    "    return result"
   ]
  },
  {
   "cell_type": "markdown",
   "id": "f101d9a8",
   "metadata": {},
   "source": [
    "### Load data"
   ]
  },
  {
   "cell_type": "code",
   "execution_count": 5,
   "id": "0176b4e2",
   "metadata": {},
   "outputs": [],
   "source": [
    "testdata=readlines(\"data/test17.txt\")\n",
    "data=readlines(\"data/data17.txt\")"
   ]
  },
  {
   "cell_type": "markdown",
   "id": "18346b47",
   "metadata": {},
   "source": [
    "### Tests"
   ]
  },
  {
   "cell_type": "code",
   "execution_count": 6,
   "id": "0d2df123",
   "metadata": {},
   "outputs": [],
   "source": [
    "assert calculateBestXY(min(testdata[0]),min(testdata[1]))[1]==45\n",
    "assert calculateShots(testdata)==112"
   ]
  },
  {
   "cell_type": "markdown",
   "id": "bea1fc72",
   "metadata": {},
   "source": [
    "### Solution 1"
   ]
  },
  {
   "cell_type": "code",
   "execution_count": 7,
   "id": "bc481361",
   "metadata": {},
   "outputs": [
    {
     "data": {
      "text/plain": [
       "(21, 4005)"
      ]
     },
     "execution_count": 7,
     "metadata": {},
     "output_type": "execute_result"
    }
   ],
   "source": [
    "calculateBestXY(min(data[0]),min(data[1]))"
   ]
  },
  {
   "cell_type": "markdown",
   "id": "ad107519",
   "metadata": {},
   "source": [
    "### Solution 2"
   ]
  },
  {
   "cell_type": "code",
   "execution_count": 8,
   "id": "f19180af",
   "metadata": {},
   "outputs": [
    {
     "data": {
      "text/plain": [
       "2953"
      ]
     },
     "execution_count": 8,
     "metadata": {},
     "output_type": "execute_result"
    }
   ],
   "source": [
    "calculateShots(data)"
   ]
  }
 ],
 "metadata": {
  "kernelspec": {
   "display_name": "Python 3 (ipykernel)",
   "language": "python",
   "name": "python3"
  },
  "language_info": {
   "codemirror_mode": {
    "name": "ipython",
    "version": 3
   },
   "file_extension": ".py",
   "mimetype": "text/x-python",
   "name": "python",
   "nbconvert_exporter": "python",
   "pygments_lexer": "ipython3",
   "version": "3.8.8"
  }
 },
 "nbformat": 4,
 "nbformat_minor": 5
}

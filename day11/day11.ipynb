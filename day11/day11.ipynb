{
 "cells": [
  {
   "cell_type": "code",
   "execution_count": 1,
   "id": "891c1c12",
   "metadata": {},
   "outputs": [],
   "source": [
    "import numpy as np"
   ]
  },
  {
   "cell_type": "markdown",
   "id": "6682052d",
   "metadata": {},
   "source": [
    "### Functions"
   ]
  },
  {
   "cell_type": "code",
   "execution_count": 2,
   "id": "b658dc28",
   "metadata": {},
   "outputs": [],
   "source": [
    "def readlines(path:str):\n",
    "    with open(path, 'r') as f:\n",
    "        data = np.stack([np.array(list(x.strip())).astype(int) for x in f.readlines()])\n",
    "    return data"
   ]
  },
  {
   "cell_type": "code",
   "execution_count": 3,
   "id": "340770b7",
   "metadata": {},
   "outputs": [],
   "source": [
    "def getNeighbours(data,point):\n",
    "    compass=np.array([(0,1),(1,0),(-1,0),(0,-1),(-1,-1),(1,1),(-1,1),(1,-1)])\n",
    "    nP=[tuple(i+point) for i in compass if (i+point).min()>=0 and all((i+point)<data.shape)]\n",
    "    nV=[data[p] for p in nP]\n",
    "    return zip(nP,nV)"
   ]
  },
  {
   "cell_type": "code",
   "execution_count": 4,
   "id": "157d10d3",
   "metadata": {},
   "outputs": [],
   "source": [
    "def runStep(array):\n",
    "    flashes=0\n",
    "    \n",
    "    array+=1\n",
    "    flashPoints=[tuple(x) for x in np.argwhere(array>=10)]\n",
    "    \n",
    "    while(len(flashPoints)>0):\n",
    "        flashes+=len(flashPoints)\n",
    "        for fp in flashPoints:\n",
    "            array[fp]=0\n",
    "            nL = getNeighbours(array,fp)\n",
    "            for n in nL:\n",
    "                if n[1]>0:\n",
    "                    array[n[0]]+=1\n",
    "            \n",
    "        flashPoints=[tuple(x) for x in np.argwhere(array>=10)]\n",
    "        \n",
    "        \n",
    "    return flashes"
   ]
  },
  {
   "cell_type": "code",
   "execution_count": 5,
   "id": "6bfbf442",
   "metadata": {},
   "outputs": [],
   "source": [
    "def run(data, steps):\n",
    "    array = data.copy()\n",
    "    flashes=0\n",
    "    for _ in range(steps):\n",
    "        flashes+=runStep(array)\n",
    "        \n",
    "    return flashes"
   ]
  },
  {
   "cell_type": "code",
   "execution_count": 6,
   "id": "ad71721f",
   "metadata": {},
   "outputs": [],
   "source": [
    "def run2(data):\n",
    "    array = data.copy()\n",
    "    cnt=0\n",
    "    while(not np.all(array==0)):\n",
    "        runStep(array)\n",
    "        cnt+=1\n",
    "    \n",
    "    return cnt"
   ]
  },
  {
   "cell_type": "markdown",
   "id": "f101d9a8",
   "metadata": {},
   "source": [
    "### Load data"
   ]
  },
  {
   "cell_type": "code",
   "execution_count": 7,
   "id": "0176b4e2",
   "metadata": {},
   "outputs": [],
   "source": [
    "testdata=readlines(\"data/test11.txt\")\n",
    "data=readlines(\"data/data11.txt\")"
   ]
  },
  {
   "cell_type": "markdown",
   "id": "18346b47",
   "metadata": {},
   "source": [
    "### Tests"
   ]
  },
  {
   "cell_type": "code",
   "execution_count": 8,
   "id": "0d2df123",
   "metadata": {},
   "outputs": [],
   "source": [
    "assert run(testdata,100)==1656\n",
    "assert run2(testdata)==195"
   ]
  },
  {
   "cell_type": "markdown",
   "id": "bea1fc72",
   "metadata": {},
   "source": [
    "### Solution 1"
   ]
  },
  {
   "cell_type": "code",
   "execution_count": 9,
   "id": "bc481361",
   "metadata": {},
   "outputs": [
    {
     "data": {
      "text/plain": [
       "1601"
      ]
     },
     "execution_count": 9,
     "metadata": {},
     "output_type": "execute_result"
    }
   ],
   "source": [
    "run(data,100)"
   ]
  },
  {
   "cell_type": "markdown",
   "id": "ad107519",
   "metadata": {},
   "source": [
    "### Solution 2"
   ]
  },
  {
   "cell_type": "code",
   "execution_count": 10,
   "id": "b1521ff1",
   "metadata": {},
   "outputs": [
    {
     "data": {
      "text/plain": [
       "368"
      ]
     },
     "execution_count": 10,
     "metadata": {},
     "output_type": "execute_result"
    }
   ],
   "source": [
    "run2(data)"
   ]
  }
 ],
 "metadata": {
  "kernelspec": {
   "display_name": "Python 3 (ipykernel)",
   "language": "python",
   "name": "python3"
  },
  "language_info": {
   "codemirror_mode": {
    "name": "ipython",
    "version": 3
   },
   "file_extension": ".py",
   "mimetype": "text/x-python",
   "name": "python",
   "nbconvert_exporter": "python",
   "pygments_lexer": "ipython3",
   "version": "3.8.8"
  }
 },
 "nbformat": 4,
 "nbformat_minor": 5
}

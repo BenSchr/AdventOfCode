{
 "cells": [
  {
   "cell_type": "code",
   "execution_count": 1,
   "id": "891c1c12",
   "metadata": {},
   "outputs": [],
   "source": [
    "import numpy as np\n",
    "import networkx as nx"
   ]
  },
  {
   "cell_type": "markdown",
   "id": "6682052d",
   "metadata": {},
   "source": [
    "### Functions"
   ]
  },
  {
   "cell_type": "code",
   "execution_count": 2,
   "id": "b658dc28",
   "metadata": {},
   "outputs": [],
   "source": [
    "def readlines(path:str):\n",
    "    array = np.genfromtxt(path, delimiter=1).astype(int)\n",
    "\n",
    "    return array"
   ]
  },
  {
   "cell_type": "code",
   "execution_count": 3,
   "id": "bd6d14a2",
   "metadata": {},
   "outputs": [],
   "source": [
    "def getNeighbours(data,point):\n",
    "    compass=np.array([(-1, 0), (1, 0), (0, -1), (0, 1)])\n",
    "    nP=[tuple(i+point) for i in compass if (i+point).min()>=0 and all((i+point)<data.shape)]\n",
    "    nV=[data[p] for p in nP]\n",
    "    return zip(nP,nV)"
   ]
  },
  {
   "cell_type": "code",
   "execution_count": 4,
   "id": "93e9c2ce",
   "metadata": {},
   "outputs": [],
   "source": [
    "def solution(data):\n",
    "    G = nx.DiGraph()   \n",
    "    \n",
    "    for pos in np.ndindex(data.shape):\n",
    "        for n in getNeighbours(data,pos):\n",
    "            G.add_edge(pos,n[0],weight=n[1])\n",
    "            \n",
    "    return nx.shortest_path_length(G,(0,0),max(np.ndindex(data.shape)),weight=\"weight\")"
   ]
  },
  {
   "cell_type": "code",
   "execution_count": 5,
   "id": "441077c3",
   "metadata": {},
   "outputs": [],
   "source": [
    "def expandArray(data,weight):\n",
    "    rows=data.shape[0]\n",
    "    cols=data.shape[1]\n",
    "    \n",
    "    newarray=np.zeros((rows*weight,cols*weight)).astype(int)\n",
    "    \n",
    "    for row in range(rows*weight):\n",
    "        for col in range(cols*weight):\n",
    "            orgvalue=data[(row%rows),(col%cols)]\n",
    "            newvalue=(orgvalue+(row // rows)+(col // cols))%9\n",
    "            newarray[row,col]= 9 if newvalue==0 else newvalue\n",
    "            \n",
    "    return newarray"
   ]
  },
  {
   "cell_type": "markdown",
   "id": "f101d9a8",
   "metadata": {},
   "source": [
    "### Load data"
   ]
  },
  {
   "cell_type": "code",
   "execution_count": 6,
   "id": "0176b4e2",
   "metadata": {},
   "outputs": [],
   "source": [
    "testdata=readlines(\"data/test15.txt\")\n",
    "data=readlines(\"data/data15.txt\")"
   ]
  },
  {
   "cell_type": "markdown",
   "id": "18346b47",
   "metadata": {},
   "source": [
    "### Tests"
   ]
  },
  {
   "cell_type": "code",
   "execution_count": 7,
   "id": "0d2df123",
   "metadata": {},
   "outputs": [],
   "source": [
    "assert solution(testdata)==40\n",
    "assert solution(expandArray(testdata,5))==315"
   ]
  },
  {
   "cell_type": "code",
   "execution_count": 8,
   "id": "17fb05fe",
   "metadata": {},
   "outputs": [
    {
     "data": {
      "text/plain": [
       "40"
      ]
     },
     "execution_count": 8,
     "metadata": {},
     "output_type": "execute_result"
    }
   ],
   "source": [
    "solution(testdata)"
   ]
  },
  {
   "cell_type": "markdown",
   "id": "bea1fc72",
   "metadata": {},
   "source": [
    "### Solution 1"
   ]
  },
  {
   "cell_type": "code",
   "execution_count": 9,
   "id": "bc481361",
   "metadata": {},
   "outputs": [
    {
     "data": {
      "text/plain": [
       "673"
      ]
     },
     "execution_count": 9,
     "metadata": {},
     "output_type": "execute_result"
    }
   ],
   "source": [
    "solution(data)"
   ]
  },
  {
   "cell_type": "markdown",
   "id": "ad107519",
   "metadata": {},
   "source": [
    "### Solution 2"
   ]
  },
  {
   "cell_type": "code",
   "execution_count": 10,
   "id": "f19180af",
   "metadata": {},
   "outputs": [
    {
     "data": {
      "text/plain": [
       "2893"
      ]
     },
     "execution_count": 10,
     "metadata": {},
     "output_type": "execute_result"
    }
   ],
   "source": [
    "solution(expandArray(data,5))"
   ]
  }
 ],
 "metadata": {
  "kernelspec": {
   "display_name": "Python 3 (ipykernel)",
   "language": "python",
   "name": "python3"
  },
  "language_info": {
   "codemirror_mode": {
    "name": "ipython",
    "version": 3
   },
   "file_extension": ".py",
   "mimetype": "text/x-python",
   "name": "python",
   "nbconvert_exporter": "python",
   "pygments_lexer": "ipython3",
   "version": "3.8.8"
  }
 },
 "nbformat": 4,
 "nbformat_minor": 5
}

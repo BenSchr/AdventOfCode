{
 "cells": [
  {
   "cell_type": "code",
   "execution_count": 1,
   "id": "233d3e12",
   "metadata": {},
   "outputs": [],
   "source": [
    "import numpy as np"
   ]
  },
  {
   "cell_type": "markdown",
   "id": "23e40166",
   "metadata": {},
   "source": [
    "### Functions"
   ]
  },
  {
   "cell_type": "code",
   "execution_count": 2,
   "id": "de40f1e0",
   "metadata": {
    "scrolled": true
   },
   "outputs": [],
   "source": [
    "def readlines(path:str):\n",
    "    with open(path, 'r') as f:\n",
    "        lines= f.readlines()\n",
    "        data=[]\n",
    "        for line in lines:\n",
    "            tmp = line.split(\"|\")\n",
    "            d={}\n",
    "            d[\"content\"]=[np.sort(list(x)) for x in tmp[0].strip().split(\" \")]\n",
    "            d[\"display\"]=[np.sort(list(x)) for x in tmp[1].strip().split(\" \")]\n",
    "            data.append(d)\n",
    "            \n",
    "    return data"
   ]
  },
  {
   "cell_type": "code",
   "execution_count": 69,
   "id": "b78a683b",
   "metadata": {},
   "outputs": [],
   "source": [
    "def calculateNumbers(data):\n",
    "\n",
    "    result=[]\n",
    "\n",
    "    for line in data:\n",
    "        content=line[\"content\"]\n",
    "\n",
    "        cMap={}\n",
    "        cMap[1]=next(i for i in content if len(i)==2)\n",
    "        cMap[4]=next(i for i in content if len(i)==4)\n",
    "        cMap[7]=next(i for i in content if len(i)==3)\n",
    "        cMap[8]=next(i for i in content if len(i)==7)\n",
    "\n",
    "        cMap[9]=next(i for i in content if (len(i)==6 and all(np.isin(cMap[4],i))))\n",
    "        cMap[0]=next(i for i in content if (len(i)==6 and not all(np.isin(cMap[9],i)) and all(np.isin(cMap[7],i)) ))\n",
    "        cMap[6]=next(i for i in content if (len(i)==6 and not all(np.isin(cMap[9],i)) and not all(np.isin(cMap[0],i)) ))\n",
    "\n",
    "        cMap[3]=next(i for i in content if (len(i)==5 and all(np.isin(cMap[1],i))))\n",
    "        cMap[5]=np.intersect1d(cMap[6],cMap[9])\n",
    "        cMap[2]=next(i for i in content if (len(i)==5 and not all(np.isin(cMap[5],i)) and not all(np.isin(cMap[3],i)) ))\n",
    "\n",
    "        display=line[\"display\"]\n",
    "        \n",
    "        \n",
    "        for el in display:\n",
    "            for k,v in cMap.items():\n",
    "                if np.all(\"\".join(v)==\"\".join(el)):\n",
    "                    result.append(k)\n",
    "    \n",
    "    return result     "
   ]
  },
  {
   "cell_type": "code",
   "execution_count": 70,
   "id": "9987f4c4",
   "metadata": {},
   "outputs": [],
   "source": [
    "def calculateSolution1(data):\n",
    "    numbers=calculateNumbers(data)\n",
    "    count=np.bincount(numbers)\n",
    "    return (count[1]+count[4]+count[7]+count[8]) "
   ]
  },
  {
   "cell_type": "code",
   "execution_count": 166,
   "id": "76aac262",
   "metadata": {},
   "outputs": [],
   "source": [
    "def calculateSolution2(data):\n",
    "    numbers=calculateNumbers(data)\n",
    "    \n",
    "    cnt=0\n",
    "    suM=0\n",
    "    \n",
    "    for n in numbers:\n",
    "        i=cnt%4\n",
    "        cnt+=1\n",
    "        suM+=int(n*(1000/pow(10,i)))\n",
    "        \n",
    "        \n",
    "    return suM"
   ]
  },
  {
   "cell_type": "markdown",
   "id": "20787c04",
   "metadata": {},
   "source": [
    "### Load data"
   ]
  },
  {
   "cell_type": "code",
   "execution_count": 167,
   "id": "7e33597f",
   "metadata": {},
   "outputs": [],
   "source": [
    "testdata=readlines(\"data/test08.txt\")\n",
    "data=readlines(\"data/data08.txt\")"
   ]
  },
  {
   "cell_type": "markdown",
   "id": "4b671623",
   "metadata": {},
   "source": [
    "### Tests"
   ]
  },
  {
   "cell_type": "code",
   "execution_count": 168,
   "id": "7ea30d7b",
   "metadata": {
    "scrolled": true
   },
   "outputs": [],
   "source": [
    "assert calculateSolution1(testdata)==26\n",
    "assert calculateSolution2(testdata)==61229"
   ]
  },
  {
   "cell_type": "markdown",
   "id": "fff58d2c",
   "metadata": {},
   "source": [
    "### Solution 1"
   ]
  },
  {
   "cell_type": "code",
   "execution_count": 170,
   "id": "e56cef55",
   "metadata": {},
   "outputs": [
    {
     "data": {
      "text/plain": [
       "301"
      ]
     },
     "execution_count": 170,
     "metadata": {},
     "output_type": "execute_result"
    }
   ],
   "source": [
    "calculateSolution1(data)"
   ]
  },
  {
   "cell_type": "markdown",
   "id": "29209184",
   "metadata": {},
   "source": [
    "### Solution 2"
   ]
  },
  {
   "cell_type": "code",
   "execution_count": 171,
   "id": "e5756f09",
   "metadata": {},
   "outputs": [
    {
     "data": {
      "text/plain": [
       "908067"
      ]
     },
     "execution_count": 171,
     "metadata": {},
     "output_type": "execute_result"
    }
   ],
   "source": [
    "calculateSolution2(data)"
   ]
  },
  {
   "cell_type": "code",
   "execution_count": null,
   "id": "5cb421eb",
   "metadata": {},
   "outputs": [],
   "source": []
  }
 ],
 "metadata": {
  "kernelspec": {
   "display_name": "Python 3 (ipykernel)",
   "language": "python",
   "name": "python3"
  },
  "language_info": {
   "codemirror_mode": {
    "name": "ipython",
    "version": 3
   },
   "file_extension": ".py",
   "mimetype": "text/x-python",
   "name": "python",
   "nbconvert_exporter": "python",
   "pygments_lexer": "ipython3",
   "version": "3.8.8"
  }
 },
 "nbformat": 4,
 "nbformat_minor": 5
}

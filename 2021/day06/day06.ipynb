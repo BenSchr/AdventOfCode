{
 "cells": [
  {
   "cell_type": "code",
   "execution_count": 1,
   "id": "753a187c",
   "metadata": {},
   "outputs": [],
   "source": [
    "import numpy as np"
   ]
  },
  {
   "cell_type": "code",
   "execution_count": 36,
   "id": "db3a8e38",
   "metadata": {},
   "outputs": [
    {
     "data": {
      "text/plain": [
       "array([3, 4, 3, 1, 2])"
      ]
     },
     "execution_count": 36,
     "metadata": {},
     "output_type": "execute_result"
    }
   ],
   "source": [
    "def readlines(path:str):\n",
    "    with open(path, 'r') as f:\n",
    "        data = np.array(f.read().split(\",\")).astype(int)\n",
    "    return data\n",
    "\n",
    "readlines(\"data/test06.txt\")"
   ]
  },
  {
   "cell_type": "code",
   "execution_count": 163,
   "id": "d8d15a3e",
   "metadata": {},
   "outputs": [],
   "source": [
    "def run(data,steps):\n",
    "    \n",
    "    grid=np.zeros((9,),dtype=np.int64)\n",
    "    groups=np.bincount(data)\n",
    "    grid[:len(groups)]+=groups\n",
    "    for _ in range(steps):\n",
    "        grid = np.roll(grid,-1)\n",
    "        grid[6]+=grid[8]\n",
    "        \n",
    "    return sum(grid)"
   ]
  },
  {
   "cell_type": "code",
   "execution_count": 164,
   "id": "bbb46b6c",
   "metadata": {},
   "outputs": [],
   "source": [
    "testdata = readlines(\"data/test06.txt\")\n",
    "data=readlines(\"data/data06.txt\")"
   ]
  },
  {
   "cell_type": "code",
   "execution_count": 165,
   "id": "b0ee5e9b",
   "metadata": {},
   "outputs": [
    {
     "data": {
      "text/plain": [
       "5934"
      ]
     },
     "execution_count": 165,
     "metadata": {},
     "output_type": "execute_result"
    }
   ],
   "source": [
    " run(testdata,80)"
   ]
  },
  {
   "cell_type": "code",
   "execution_count": 166,
   "id": "97d67b61",
   "metadata": {},
   "outputs": [],
   "source": [
    "assert run(testdata,80)==5934"
   ]
  },
  {
   "cell_type": "code",
   "execution_count": 167,
   "id": "a6f7d4e9",
   "metadata": {},
   "outputs": [
    {
     "data": {
      "text/plain": [
       "395627"
      ]
     },
     "execution_count": 167,
     "metadata": {},
     "output_type": "execute_result"
    }
   ],
   "source": [
    "run(data,80)"
   ]
  },
  {
   "cell_type": "code",
   "execution_count": 168,
   "id": "0ba45e92",
   "metadata": {},
   "outputs": [
    {
     "data": {
      "text/plain": [
       "1767323539209"
      ]
     },
     "execution_count": 168,
     "metadata": {},
     "output_type": "execute_result"
    }
   ],
   "source": [
    "run(data,256)"
   ]
  },
  {
   "cell_type": "code",
   "execution_count": null,
   "id": "6fa024f2",
   "metadata": {},
   "outputs": [],
   "source": []
  }
 ],
 "metadata": {
  "kernelspec": {
   "display_name": "Python 3 (ipykernel)",
   "language": "python",
   "name": "python3"
  },
  "language_info": {
   "codemirror_mode": {
    "name": "ipython",
    "version": 3
   },
   "file_extension": ".py",
   "mimetype": "text/x-python",
   "name": "python",
   "nbconvert_exporter": "python",
   "pygments_lexer": "ipython3",
   "version": "3.8.8"
  }
 },
 "nbformat": 4,
 "nbformat_minor": 5
}

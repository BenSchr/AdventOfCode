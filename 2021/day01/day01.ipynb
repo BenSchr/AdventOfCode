{
 "cells": [
  {
   "cell_type": "code",
   "execution_count": 1,
   "id": "4e79d249",
   "metadata": {},
   "outputs": [],
   "source": [
    "import numpy as np"
   ]
  },
  {
   "cell_type": "markdown",
   "id": "cad63d72",
   "metadata": {},
   "source": [
    "### Functions"
   ]
  },
  {
   "cell_type": "code",
   "execution_count": 2,
   "id": "62e2862e",
   "metadata": {},
   "outputs": [],
   "source": [
    "def readlines(path:str):\n",
    "    with open(path, 'r') as f:\n",
    "        data = [int(row) for row in f.readlines()]\n",
    "    return data"
   ]
  },
  {
   "cell_type": "code",
   "execution_count": 3,
   "id": "aa1d3af8",
   "metadata": {},
   "outputs": [],
   "source": [
    "def calculateSolution(data:list,depth:int):\n",
    "    return sum([int(x) < int(y) for x, y in zip(data, data[depth:])])"
   ]
  },
  {
   "cell_type": "code",
   "execution_count": 4,
   "id": "cd4c1273",
   "metadata": {},
   "outputs": [],
   "source": [
    "def prepareSolution2(data:list,windowSize:int):\n",
    "    tmp=np.array(data).cumsum()\n",
    "    tmp[windowSize:]=tmp[windowSize:]-tmp[:-windowSize]\n",
    "    return list(tmp[(windowSize-1):])"
   ]
  },
  {
   "cell_type": "markdown",
   "id": "d68a7f3e",
   "metadata": {},
   "source": [
    "### Read data"
   ]
  },
  {
   "cell_type": "code",
   "execution_count": 5,
   "id": "e762e78b",
   "metadata": {},
   "outputs": [],
   "source": [
    "testdata = readlines('data/test01.txt')\n",
    "data = readlines('data/day01.txt')"
   ]
  },
  {
   "cell_type": "markdown",
   "id": "ccc2dea4",
   "metadata": {},
   "source": [
    "### Tests"
   ]
  },
  {
   "cell_type": "code",
   "execution_count": 6,
   "id": "af68c933",
   "metadata": {},
   "outputs": [],
   "source": [
    "assert len(testdata)==10\n",
    "assert calculateSolution(testdata,1)==7, f'Wrong: {calculateSolution(testdata,1)} Expected: 7'\n",
    "assert calculateSolution(testdata,3)==5, f'Wrong: {calculateSolution(testdata,3)} Expected: 5'\n",
    "assert calculateSolution(prepareSolution2(testdata,3),1)==5, f'Wrong: {calculateSolution(prepareSolution2(testdata,3),1)} Expected: 5'"
   ]
  },
  {
   "cell_type": "markdown",
   "id": "e4a17750",
   "metadata": {},
   "source": [
    "### Solution1"
   ]
  },
  {
   "cell_type": "code",
   "execution_count": 7,
   "id": "89011105",
   "metadata": {},
   "outputs": [
    {
     "data": {
      "text/plain": [
       "1162"
      ]
     },
     "execution_count": 7,
     "metadata": {},
     "output_type": "execute_result"
    }
   ],
   "source": [
    "calculateSolution(data,1)"
   ]
  },
  {
   "cell_type": "markdown",
   "id": "56ebed03",
   "metadata": {},
   "source": [
    "### Solution2 "
   ]
  },
  {
   "cell_type": "markdown",
   "id": "2c0a5ec3",
   "metadata": {},
   "source": [
    "#### Option 1 (Not sure if this is coincidence)"
   ]
  },
  {
   "cell_type": "code",
   "execution_count": 8,
   "id": "462c8e46",
   "metadata": {},
   "outputs": [
    {
     "data": {
      "text/plain": [
       "1190"
      ]
     },
     "execution_count": 8,
     "metadata": {},
     "output_type": "execute_result"
    }
   ],
   "source": [
    "calculateSolution(data,3)"
   ]
  },
  {
   "cell_type": "markdown",
   "id": "baeaacab",
   "metadata": {},
   "source": [
    "#### Option 2"
   ]
  },
  {
   "cell_type": "code",
   "execution_count": 9,
   "id": "0e58b1c4",
   "metadata": {},
   "outputs": [
    {
     "data": {
      "text/plain": [
       "1190"
      ]
     },
     "execution_count": 9,
     "metadata": {},
     "output_type": "execute_result"
    }
   ],
   "source": [
    "calculateSolution(prepareSolution2(data,3),1)"
   ]
  }
 ],
 "metadata": {
  "kernelspec": {
   "display_name": "Python 3 (ipykernel)",
   "language": "python",
   "name": "python3"
  },
  "language_info": {
   "codemirror_mode": {
    "name": "ipython",
    "version": 3
   },
   "file_extension": ".py",
   "mimetype": "text/x-python",
   "name": "python",
   "nbconvert_exporter": "python",
   "pygments_lexer": "ipython3",
   "version": "3.8.8"
  }
 },
 "nbformat": 4,
 "nbformat_minor": 5
}

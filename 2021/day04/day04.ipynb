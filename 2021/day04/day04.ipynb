{
 "cells": [
  {
   "cell_type": "code",
   "execution_count": 1,
   "id": "e7ab86b3",
   "metadata": {},
   "outputs": [],
   "source": [
    "import numpy as np\n",
    "import re"
   ]
  },
  {
   "cell_type": "markdown",
   "id": "ba1eb9a8",
   "metadata": {},
   "source": [
    "### Functions"
   ]
  },
  {
   "cell_type": "code",
   "execution_count": 2,
   "id": "080dce0d",
   "metadata": {},
   "outputs": [],
   "source": [
    "def readlines(path:str):\n",
    "    with open(path, 'r') as f:\n",
    "        content = f.read().split(\"\\n\\n\")\n",
    "        head=[int(i) for i in content[0].split(\",\")]\n",
    "        data=[]\n",
    "        for element in content[1:]:\n",
    "            data.append(np.stack([np.array(re.split(\"\\\\s+\",i.strip())).astype(int) for i in re.split(\"\\n\",element)]))\n",
    "            \n",
    "    return head,data"
   ]
  },
  {
   "cell_type": "code",
   "execution_count": 3,
   "id": "63974f21",
   "metadata": {},
   "outputs": [],
   "source": [
    "class BingoCard:\n",
    "    def __init__(self, card):\n",
    "        self.card = card\n",
    "        self.punchCard=np.zeros(card.shape, dtype=int)\n",
    "        self.sizeY=card.shape[0]\n",
    "        self.sizeX=card.shape[1]\n",
    "        \n",
    "        \n",
    "    def markNumber(self,number:int):\n",
    "        self.punchCard[np.where(self.card==number)]=1\n",
    "        \n",
    "    def checkBingo(self):        \n",
    "        if sum(self.punchCard).max()==self.sizeY or self.punchCard.sum(axis=1).max()==self.sizeX:\n",
    "            return True\n",
    "        else: return False\n",
    "        \n",
    "    def __repr__(self):\n",
    "        return f\"\"\"      \n",
    "{self.card}\n",
    "        \n",
    "{self.punchCard}\n",
    "        \n",
    "Bingo: {self.checkBingo()}\"\"\""
   ]
  },
  {
   "cell_type": "code",
   "execution_count": 4,
   "id": "bf7475a4",
   "metadata": {},
   "outputs": [],
   "source": [
    "def convertListToBingoCards(data:list):\n",
    "    return [BingoCard(i) for i in data]"
   ]
  },
  {
   "cell_type": "code",
   "execution_count": 5,
   "id": "0caad858",
   "metadata": {},
   "outputs": [],
   "source": [
    "def calculateScore(card:BingoCard,number:int):\n",
    "    return sum(card.card[np.where(card.punchCard==0)])*number"
   ]
  },
  {
   "cell_type": "code",
   "execution_count": 6,
   "id": "0170accf",
   "metadata": {},
   "outputs": [],
   "source": [
    "def runBingo(numberList:list,bingoCards:list):\n",
    "    for number in numberList:\n",
    "        for card in bingoCards:\n",
    "            card.markNumber(number)\n",
    "            if card.checkBingo():\n",
    "                return card,number          "
   ]
  },
  {
   "cell_type": "code",
   "execution_count": 7,
   "id": "f2dbe236",
   "metadata": {},
   "outputs": [],
   "source": [
    "def runBingo2(numberList:list,bingoCards:list):\n",
    "    for number in numberList:\n",
    "        for card in bingoCards[:]:\n",
    "            card.markNumber(number)\n",
    "            if card.checkBingo():\n",
    "                if len(bingoCards)==1: return card,number\n",
    "                bingoCards.remove(card)"
   ]
  },
  {
   "cell_type": "code",
   "execution_count": 8,
   "id": "18e193c1",
   "metadata": {},
   "outputs": [],
   "source": [
    "def calculateSolution1(numberList, data):\n",
    "    bingoCards=convertListToBingoCards(data)\n",
    "    return calculateScore(*runBingo(numberList,bingoCards))"
   ]
  },
  {
   "cell_type": "code",
   "execution_count": 9,
   "id": "346a6a0f",
   "metadata": {},
   "outputs": [],
   "source": [
    "def calculateSolution2(numberList, data):\n",
    "    bingoCards=convertListToBingoCards(data)\n",
    "    return calculateScore(*runBingo2(numberList,bingoCards))"
   ]
  },
  {
   "cell_type": "markdown",
   "id": "a15ef6ed",
   "metadata": {},
   "source": [
    "### Load data"
   ]
  },
  {
   "cell_type": "code",
   "execution_count": 10,
   "id": "a1653eef",
   "metadata": {},
   "outputs": [],
   "source": [
    "testNumbers,testdata=readlines(\"data/test04.txt\")\n",
    "numbers,data=readlines(\"data/data04.txt\")"
   ]
  },
  {
   "cell_type": "markdown",
   "id": "cdddb49b",
   "metadata": {},
   "source": [
    "### Tests"
   ]
  },
  {
   "cell_type": "code",
   "execution_count": 11,
   "id": "0761f408",
   "metadata": {},
   "outputs": [],
   "source": [
    "assert calculateSolution1(testNumbers,testdata)==4512\n",
    "assert calculateSolution2(testNumbers,testdata)==1924"
   ]
  },
  {
   "cell_type": "markdown",
   "id": "4028eded",
   "metadata": {},
   "source": [
    "### Solution 1"
   ]
  },
  {
   "cell_type": "code",
   "execution_count": 12,
   "id": "751840b3",
   "metadata": {},
   "outputs": [
    {
     "data": {
      "text/plain": [
       "72770"
      ]
     },
     "execution_count": 12,
     "metadata": {},
     "output_type": "execute_result"
    }
   ],
   "source": [
    "calculateSolution1(numbers,data)"
   ]
  },
  {
   "cell_type": "markdown",
   "id": "e56af9d0",
   "metadata": {},
   "source": [
    "### Solution 2"
   ]
  },
  {
   "cell_type": "code",
   "execution_count": 13,
   "id": "5aaa5bfc",
   "metadata": {},
   "outputs": [
    {
     "data": {
      "text/plain": [
       "13912"
      ]
     },
     "execution_count": 13,
     "metadata": {},
     "output_type": "execute_result"
    }
   ],
   "source": [
    "calculateSolution2(numbers,data)"
   ]
  }
 ],
 "metadata": {
  "kernelspec": {
   "display_name": "Python 3 (ipykernel)",
   "language": "python",
   "name": "python3"
  },
  "language_info": {
   "codemirror_mode": {
    "name": "ipython",
    "version": 3
   },
   "file_extension": ".py",
   "mimetype": "text/x-python",
   "name": "python",
   "nbconvert_exporter": "python",
   "pygments_lexer": "ipython3",
   "version": "3.8.8"
  }
 },
 "nbformat": 4,
 "nbformat_minor": 5
}

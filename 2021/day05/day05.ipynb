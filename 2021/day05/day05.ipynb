{
 "cells": [
  {
   "cell_type": "code",
   "execution_count": 1,
   "id": "6eb1fc45",
   "metadata": {},
   "outputs": [],
   "source": [
    "import numpy as np"
   ]
  },
  {
   "cell_type": "markdown",
   "id": "0126f861",
   "metadata": {},
   "source": [
    "### Functions"
   ]
  },
  {
   "cell_type": "code",
   "execution_count": 2,
   "id": "17741671",
   "metadata": {},
   "outputs": [],
   "source": [
    "def readlines(path:str):\n",
    "    with open(path, 'r') as f:\n",
    "        data = [[tuple(map(int,x.split(\",\"))),tuple(map(int,y.split(\",\")))] for x,y in [x.strip().split(\" -> \") for x in f.readlines()]]\n",
    "       \n",
    "    return data"
   ]
  },
  {
   "cell_type": "code",
   "execution_count": 3,
   "id": "e6b99f89",
   "metadata": {},
   "outputs": [],
   "source": [
    "def calculateSolution1(data):\n",
    "    shape=np.array(data).max(axis=1).max(axis=0)\n",
    "    checkbox=np.zeros((shape+1),dtype=int)\n",
    "\n",
    "    for line in data:\n",
    "        if abs(np.subtract(line[0],line[1])).min()==0:\n",
    "            maxDistance=abs(np.subtract(line[0],line[1])).max()+1\n",
    "                \n",
    "            x=np.linspace(line[0][0],line[1][0],maxDistance).astype(int)\n",
    "            y=np.linspace(line[0][1],line[1][1],maxDistance).astype(int)\n",
    "\n",
    "            for v in zip(x,y):\n",
    "                checkbox[v]+=1\n",
    "                \n",
    "    return len(checkbox[np.where(checkbox>1)])"
   ]
  },
  {
   "cell_type": "code",
   "execution_count": 4,
   "id": "12a6d6d4",
   "metadata": {},
   "outputs": [],
   "source": [
    "def calculateSolution2(data):\n",
    "    shape=np.array(data).max(axis=1).max(axis=0)\n",
    "    checkbox=np.zeros((shape+2),dtype=int)\n",
    "\n",
    "    for line in data:\n",
    "        maxDistance=abs(np.subtract(line[0],line[1])).max()+1\n",
    "                \n",
    "        x=np.linspace(line[0][0],line[1][0],maxDistance).astype(int)\n",
    "        y=np.linspace(line[0][1],line[1][1],maxDistance).astype(int)\n",
    "        \n",
    "        for v in zip(x,y):\n",
    "            checkbox[v]+=1\n",
    "        \n",
    "    return len(checkbox[np.where(checkbox>1)])"
   ]
  },
  {
   "cell_type": "markdown",
   "id": "47e6f30b",
   "metadata": {},
   "source": [
    "### Load data"
   ]
  },
  {
   "cell_type": "code",
   "execution_count": 5,
   "id": "e3081f7c",
   "metadata": {},
   "outputs": [],
   "source": [
    "testdata=readlines(\"data/test05.txt\")\n",
    "data=readlines(\"data/data05.txt\")"
   ]
  },
  {
   "cell_type": "markdown",
   "id": "eee30dff",
   "metadata": {},
   "source": [
    "### Tests"
   ]
  },
  {
   "cell_type": "code",
   "execution_count": 6,
   "id": "4d30bfbc",
   "metadata": {},
   "outputs": [],
   "source": [
    "assert calculateSolution1(testdata)==5\n",
    "assert calculateSolution2(testdata)==12"
   ]
  },
  {
   "cell_type": "markdown",
   "id": "92ffd895",
   "metadata": {},
   "source": [
    "### Solution1"
   ]
  },
  {
   "cell_type": "code",
   "execution_count": 7,
   "id": "4a6041f8",
   "metadata": {},
   "outputs": [
    {
     "data": {
      "text/plain": [
       "5280"
      ]
     },
     "execution_count": 7,
     "metadata": {},
     "output_type": "execute_result"
    }
   ],
   "source": [
    "calculateSolution1(data)"
   ]
  },
  {
   "cell_type": "markdown",
   "id": "34455a35",
   "metadata": {},
   "source": [
    "### Solution 2"
   ]
  },
  {
   "cell_type": "code",
   "execution_count": 8,
   "id": "14f4e76e",
   "metadata": {},
   "outputs": [
    {
     "data": {
      "text/plain": [
       "16716"
      ]
     },
     "execution_count": 8,
     "metadata": {},
     "output_type": "execute_result"
    }
   ],
   "source": [
    "calculateSolution2(data)"
   ]
  }
 ],
 "metadata": {
  "kernelspec": {
   "display_name": "Python 3 (ipykernel)",
   "language": "python",
   "name": "python3"
  },
  "language_info": {
   "codemirror_mode": {
    "name": "ipython",
    "version": 3
   },
   "file_extension": ".py",
   "mimetype": "text/x-python",
   "name": "python",
   "nbconvert_exporter": "python",
   "pygments_lexer": "ipython3",
   "version": "3.8.8"
  }
 },
 "nbformat": 4,
 "nbformat_minor": 5
}

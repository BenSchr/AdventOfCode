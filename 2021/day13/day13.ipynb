{
 "cells": [
  {
   "cell_type": "code",
   "execution_count": 1,
   "id": "891c1c12",
   "metadata": {},
   "outputs": [],
   "source": [
    "import numpy as np\n",
    "import re\n",
    "\n",
    "np.set_printoptions(edgeitems=30, linewidth=100000, formatter=dict(float=lambda x: \"%.3g\" % x))"
   ]
  },
  {
   "cell_type": "markdown",
   "id": "6682052d",
   "metadata": {},
   "source": [
    "### Functions"
   ]
  },
  {
   "cell_type": "code",
   "execution_count": 2,
   "id": "b658dc28",
   "metadata": {},
   "outputs": [],
   "source": [
    "def readlines(path:str):\n",
    "    with open(path, 'r') as f:\n",
    "        content=f.read().split(\"\\n\\n\")\n",
    "        data = [tuple(map(int,x.strip().split(\",\"))) for x in content[0].split(\"\\n\")]\n",
    "        folds=[re.findall(\"(.)=(.*)\",x)[0] for x in content[1].split(\"\\n\")]\n",
    "    return data,folds"
   ]
  },
  {
   "cell_type": "code",
   "execution_count": 3,
   "id": "3abaad48",
   "metadata": {},
   "outputs": [],
   "source": [
    "def createMatrix(data):\n",
    "    array=np.zeros(np.array(data).max(axis=0)+1).astype(int)\n",
    "\n",
    "    for x in data:\n",
    "        array[x]=1\n",
    "\n",
    "    return array.T"
   ]
  },
  {
   "cell_type": "code",
   "execution_count": 4,
   "id": "2986f1a8",
   "metadata": {},
   "outputs": [],
   "source": [
    "def foldArray(array,fold):\n",
    "    cut=int(fold[1])\n",
    "    if fold[0]==\"y\":\n",
    "        axis=0\n",
    "        array=np.delete(array,cut,axis)\n",
    "        _,a,b=np.vsplit(array,[0,cut])\n",
    "    else: \n",
    "        axis=1\n",
    "        array=np.delete(array,cut,axis)\n",
    "        _,a,b=np.hsplit(array,[0,cut])\n",
    "    \n",
    "    return a+np.flip(b,axis)"
   ]
  },
  {
   "cell_type": "code",
   "execution_count": 5,
   "id": "a1a01736",
   "metadata": {},
   "outputs": [],
   "source": [
    "def solution(data,folds,p):\n",
    "    tmparray=createMatrix(data)\n",
    "    \n",
    "    for fold in folds:\n",
    "        \n",
    "        tmparray=foldArray(tmparray,fold)\n",
    "    \n",
    "    \n",
    "    if p:\n",
    "        tmparray[np.nonzero(tmparray>=1)]=1\n",
    "        print(tmparray)\n",
    "  \n",
    "    return len(np.argwhere(tmparray>=1))"
   ]
  },
  {
   "cell_type": "markdown",
   "id": "f101d9a8",
   "metadata": {},
   "source": [
    "### Load data"
   ]
  },
  {
   "cell_type": "code",
   "execution_count": 6,
   "id": "0176b4e2",
   "metadata": {},
   "outputs": [],
   "source": [
    "testdata,testfolds=readlines(\"data/test13.txt\")\n",
    "data,folds=readlines(\"data/data13.txt\")"
   ]
  },
  {
   "cell_type": "markdown",
   "id": "18346b47",
   "metadata": {},
   "source": [
    "### Tests"
   ]
  },
  {
   "cell_type": "code",
   "execution_count": 7,
   "id": "0d2df123",
   "metadata": {},
   "outputs": [
    {
     "name": "stdout",
     "output_type": "stream",
     "text": [
      "[[1 0 1 1 0 0 1 0 0 1 0]\n",
      " [1 0 0 0 1 0 0 0 0 0 0]\n",
      " [0 0 0 0 0 0 1 0 0 0 1]\n",
      " [1 0 0 0 1 0 0 0 0 0 0]\n",
      " [0 1 0 1 0 0 1 0 1 1 1]\n",
      " [0 0 0 0 0 0 0 0 0 0 0]\n",
      " [0 0 0 0 0 0 0 0 0 0 0]]\n"
     ]
    }
   ],
   "source": [
    "assert solution(testdata,testfolds[:1],True)==17"
   ]
  },
  {
   "cell_type": "markdown",
   "id": "bea1fc72",
   "metadata": {},
   "source": [
    "### Solution 1"
   ]
  },
  {
   "cell_type": "code",
   "execution_count": 8,
   "id": "bc481361",
   "metadata": {},
   "outputs": [
    {
     "data": {
      "text/plain": [
       "710"
      ]
     },
     "execution_count": 8,
     "metadata": {},
     "output_type": "execute_result"
    }
   ],
   "source": [
    "solution(data,folds[:1],False)"
   ]
  },
  {
   "cell_type": "markdown",
   "id": "ad107519",
   "metadata": {},
   "source": [
    "### Solution 2"
   ]
  },
  {
   "cell_type": "code",
   "execution_count": 9,
   "id": "f19180af",
   "metadata": {},
   "outputs": [
    {
     "name": "stdout",
     "output_type": "stream",
     "text": [
      "[[1 1 1 1 0 1 1 1 0 0 1 0 0 0 0 0 1 1 0 0 1 1 1 0 0 1 0 0 1 0 1 0 0 0 0 1 1 1 0 0]\n",
      " [1 0 0 0 0 1 0 0 1 0 1 0 0 0 0 1 0 0 1 0 1 0 0 1 0 1 0 0 1 0 1 0 0 0 0 1 0 0 1 0]\n",
      " [1 1 1 0 0 1 0 0 1 0 1 0 0 0 0 1 0 0 0 0 1 0 0 1 0 1 0 0 1 0 1 0 0 0 0 1 0 0 1 0]\n",
      " [1 0 0 0 0 1 1 1 0 0 1 0 0 0 0 1 0 1 1 0 1 1 1 0 0 1 0 0 1 0 1 0 0 0 0 1 1 1 0 0]\n",
      " [1 0 0 0 0 1 0 0 0 0 1 0 0 0 0 1 0 0 1 0 1 0 1 0 0 1 0 0 1 0 1 0 0 0 0 1 0 1 0 0]\n",
      " [1 1 1 1 0 1 0 0 0 0 1 1 1 1 0 0 1 1 1 0 1 0 0 1 0 0 1 1 0 0 1 1 1 1 0 1 0 0 1 0]]\n"
     ]
    },
    {
     "data": {
      "text/plain": [
       "97"
      ]
     },
     "execution_count": 9,
     "metadata": {},
     "output_type": "execute_result"
    }
   ],
   "source": [
    "solution(data,folds,True)\n",
    "#EPLGRULR"
   ]
  }
 ],
 "metadata": {
  "kernelspec": {
   "display_name": "Python 3 (ipykernel)",
   "language": "python",
   "name": "python3"
  },
  "language_info": {
   "codemirror_mode": {
    "name": "ipython",
    "version": 3
   },
   "file_extension": ".py",
   "mimetype": "text/x-python",
   "name": "python",
   "nbconvert_exporter": "python",
   "pygments_lexer": "ipython3",
   "version": "3.8.8"
  }
 },
 "nbformat": 4,
 "nbformat_minor": 5
}

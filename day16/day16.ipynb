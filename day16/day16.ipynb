{
 "cells": [
  {
   "cell_type": "code",
   "execution_count": 1,
   "id": "891c1c12",
   "metadata": {},
   "outputs": [],
   "source": [
    "from functools import reduce"
   ]
  },
  {
   "cell_type": "markdown",
   "id": "6682052d",
   "metadata": {},
   "source": [
    "### Functions"
   ]
  },
  {
   "cell_type": "code",
   "execution_count": 2,
   "id": "55d3ada3",
   "metadata": {},
   "outputs": [],
   "source": [
    "def readlines(path):\n",
    "    with open(path) as f:\n",
    "        input = f.readline()\n",
    "        b = (bin(int(input, 16))[2:]).zfill(len(input)*4)\n",
    "    return b"
   ]
  },
  {
   "cell_type": "code",
   "execution_count": 3,
   "id": "1c04cbc1",
   "metadata": {},
   "outputs": [],
   "source": [
    "def parseData(bS):\n",
    "    startl = len(bS)\n",
    "    packets=[]\n",
    "    packet={}\n",
    "    packet[\"version\"]=int(bS[:3],2)\n",
    "    packet[\"type\"]=int(bS[3:6],2)\n",
    "    bS=bS[6:]\n",
    "    \n",
    "    cnt=0\n",
    "\n",
    "    if packet[\"type\"]==4:\n",
    "        \n",
    "        tmpV=[]\n",
    "\n",
    "        while True:\n",
    "            tmpV.append(bS[1:5])\n",
    "            startbit=bS[0]\n",
    "            bS=bS[5:]\n",
    "            if startbit==\"0\":break\n",
    "\n",
    "        packet[\"value\"]=int(\"\".join([v for v in tmpV]),2)\n",
    "\n",
    "    else:\n",
    "        packet[\"sub\"]=[]\n",
    "        if bS[0]==\"0\":\n",
    "            len_subpackets=int(bS[1:16],2)\n",
    "\n",
    "            bS=bS[16:]\n",
    "    \n",
    "            while cnt < len_subpackets:\n",
    "                tmpP, lenP=parseData(bS)\n",
    "                packet[\"sub\"].extend(tmpP)\n",
    "                cnt+=lenP\n",
    "                bS=bS[lenP:]\n",
    "\n",
    "\n",
    "        elif bS[0]==\"1\":\n",
    "            num_subpackets=int(bS[1:12],2)\n",
    "\n",
    "            bS=bS[12:]\n",
    "\n",
    "            while cnt < num_subpackets:\n",
    "                \n",
    "                tmpP,lenP = parseData(bS)\n",
    "                packet[\"sub\"].extend(tmpP)\n",
    "                cnt+=1\n",
    "                bS=bS[lenP:]\n",
    "\n",
    "\n",
    "    packets.append(packet)\n",
    "    \n",
    "    return packets,startl-len(bS)\n"
   ]
  },
  {
   "cell_type": "code",
   "execution_count": 4,
   "id": "97fa26ad",
   "metadata": {},
   "outputs": [],
   "source": [
    "def calculateSumVersion(data):\n",
    "    version=0\n",
    "\n",
    "    for d in data:\n",
    "        version+=d[\"version\"]\n",
    "\n",
    "        if \"sub\" in d.keys():\n",
    "            for sub in d[\"sub\"]:\n",
    "                version+=calculateSumVersion([sub])\n",
    "\n",
    "    return version"
   ]
  },
  {
   "cell_type": "code",
   "execution_count": 5,
   "id": "38a2ad1b",
   "metadata": {},
   "outputs": [],
   "source": [
    "def calculateResult(package_type, results):\n",
    "    if package_type == 0:  # sum\n",
    "        return sum(results)\n",
    "    elif package_type == 1:  # product\n",
    "        return reduce(lambda a, b: a * b, results)\n",
    "    elif package_type == 2:  # minimum\n",
    "        return reduce(lambda a, b: min(a, b), results)\n",
    "    elif package_type == 3:  # maximum\n",
    "        return reduce(lambda a, b: max(a, b), results)\n",
    "    elif package_type == 5:  # greater-than\n",
    "        return 1 if results[0] > results[1] else 0\n",
    "    elif package_type == 6:  # less-than\n",
    "        return 1 if results[0] < results[1] else 0\n",
    "    elif package_type == 7:  # equals\n",
    "        return 1 if results[0] == results[1] else 0\n",
    "\n",
    "    else: return 0\n"
   ]
  },
  {
   "cell_type": "code",
   "execution_count": 6,
   "id": "1dee55c3",
   "metadata": {},
   "outputs": [],
   "source": [
    "def calculateExpression(data):\n",
    "    result = 0\n",
    "    for d in data:\n",
    "    \n",
    "        if \"sub\" in d.keys():\n",
    "            for sub in d[\"sub\"]:\n",
    "                if \"value\" not in sub.keys():\n",
    "                    sub[\"value\"]=calculateExpression([sub])\n",
    "\n",
    "            result+=calculateResult(d[\"type\"],[s[\"value\"] for s in d[\"sub\"]])\n",
    "\n",
    "    return result"
   ]
  },
  {
   "cell_type": "markdown",
   "id": "f101d9a8",
   "metadata": {},
   "source": [
    "### Load data"
   ]
  },
  {
   "cell_type": "code",
   "execution_count": 7,
   "id": "0176b4e2",
   "metadata": {},
   "outputs": [],
   "source": [
    "testdata=readlines(\"data/test16.txt\")\n",
    "data=readlines(\"data/data16.txt\")"
   ]
  },
  {
   "cell_type": "code",
   "execution_count": 8,
   "id": "5c3d260d",
   "metadata": {},
   "outputs": [],
   "source": [
    "parsedTest=parseData(testdata)[0]\n",
    "parsedData=parseData(data)[0]"
   ]
  },
  {
   "cell_type": "markdown",
   "id": "18346b47",
   "metadata": {},
   "source": [
    "### Tests"
   ]
  },
  {
   "cell_type": "code",
   "execution_count": 9,
   "id": "0d2df123",
   "metadata": {},
   "outputs": [],
   "source": [
    "assert calculateSumVersion(parsedTest)==31\n",
    "assert calculateExpression(parsedTest)==54"
   ]
  },
  {
   "cell_type": "markdown",
   "id": "bea1fc72",
   "metadata": {},
   "source": [
    "### Solution 1"
   ]
  },
  {
   "cell_type": "code",
   "execution_count": 10,
   "id": "bc481361",
   "metadata": {},
   "outputs": [
    {
     "data": {
      "text/plain": [
       "934"
      ]
     },
     "execution_count": 10,
     "metadata": {},
     "output_type": "execute_result"
    }
   ],
   "source": [
    "calculateSumVersion(parsedData)"
   ]
  },
  {
   "cell_type": "markdown",
   "id": "ad107519",
   "metadata": {},
   "source": [
    "### Solution 2"
   ]
  },
  {
   "cell_type": "code",
   "execution_count": 11,
   "id": "f19180af",
   "metadata": {},
   "outputs": [
    {
     "data": {
      "text/plain": [
       "912901337844"
      ]
     },
     "execution_count": 11,
     "metadata": {},
     "output_type": "execute_result"
    }
   ],
   "source": [
    "calculateExpression(parsedData)"
   ]
  }
 ],
 "metadata": {
  "kernelspec": {
   "display_name": "Python 3 (ipykernel)",
   "language": "python",
   "name": "python3"
  },
  "language_info": {
   "codemirror_mode": {
    "name": "ipython",
    "version": 3
   },
   "file_extension": ".py",
   "mimetype": "text/x-python",
   "name": "python",
   "nbconvert_exporter": "python",
   "pygments_lexer": "ipython3",
   "version": "3.8.8"
  }
 },
 "nbformat": 4,
 "nbformat_minor": 5
}

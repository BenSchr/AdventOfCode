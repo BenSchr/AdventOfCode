{
 "cells": [
  {
   "cell_type": "code",
   "execution_count": 1,
   "id": "d0126653",
   "metadata": {},
   "outputs": [],
   "source": [
    "import numpy as np\n",
    "import math"
   ]
  },
  {
   "cell_type": "code",
   "execution_count": 2,
   "id": "fd4523fa",
   "metadata": {},
   "outputs": [],
   "source": [
    "def readlines(path:str):\n",
    "    with open(path, 'r') as f:\n",
    "        data = np.array(f.read().split(\",\")).astype(int)\n",
    "    return data"
   ]
  },
  {
   "cell_type": "code",
   "execution_count": 3,
   "id": "d8e9f7fc",
   "metadata": {},
   "outputs": [],
   "source": [
    "def calculateSolution1(data):\n",
    "    median=np.median(data).astype(int)\n",
    "    fuel=0\n",
    "    for i in data:\n",
    "        fuel+=abs(median-i)\n",
    "    \n",
    "    return fuel"
   ]
  },
  {
   "cell_type": "code",
   "execution_count": 4,
   "id": "b492e1ca",
   "metadata": {},
   "outputs": [],
   "source": [
    "def calculateSolution2(data):\n",
    "    mean = np.mean(data)\n",
    "    option1=math.ceil(mean)\n",
    "    option2=math.floor(mean)\n",
    "    result=[]\n",
    "    for o in [option1,option2]:\n",
    "    \n",
    "        fuel=0\n",
    "        for i in data:\n",
    "            dif=abs(o-i)\n",
    "            fuel+=dif * (dif+1) // 2\n",
    "        \n",
    "        result.append(fuel)\n",
    "        \n",
    "    return min(result)"
   ]
  },
  {
   "cell_type": "code",
   "execution_count": 5,
   "id": "b3dff5ce",
   "metadata": {},
   "outputs": [],
   "source": [
    "test = readlines(\"data/test07.txt\")\n",
    "data = readlines(\"data/data07.txt\")"
   ]
  },
  {
   "cell_type": "code",
   "execution_count": 6,
   "id": "99da1b34",
   "metadata": {},
   "outputs": [],
   "source": [
    "assert calculateSolution1(test)==37\n",
    "assert calculateSolution2(test)==168"
   ]
  },
  {
   "cell_type": "code",
   "execution_count": 7,
   "id": "dd27ad12",
   "metadata": {},
   "outputs": [
    {
     "data": {
      "text/plain": [
       "349357"
      ]
     },
     "execution_count": 7,
     "metadata": {},
     "output_type": "execute_result"
    }
   ],
   "source": [
    "calculateSolution1(data)"
   ]
  },
  {
   "cell_type": "code",
   "execution_count": 8,
   "id": "f1a66d7b",
   "metadata": {},
   "outputs": [
    {
     "data": {
      "text/plain": [
       "96708205"
      ]
     },
     "execution_count": 8,
     "metadata": {},
     "output_type": "execute_result"
    }
   ],
   "source": [
    "calculateSolution2(data)"
   ]
  },
  {
   "cell_type": "code",
   "execution_count": null,
   "id": "fe48c246",
   "metadata": {},
   "outputs": [],
   "source": []
  }
 ],
 "metadata": {
  "kernelspec": {
   "display_name": "Python 3 (ipykernel)",
   "language": "python",
   "name": "python3"
  },
  "language_info": {
   "codemirror_mode": {
    "name": "ipython",
    "version": 3
   },
   "file_extension": ".py",
   "mimetype": "text/x-python",
   "name": "python",
   "nbconvert_exporter": "python",
   "pygments_lexer": "ipython3",
   "version": "3.8.8"
  }
 },
 "nbformat": 4,
 "nbformat_minor": 5
}

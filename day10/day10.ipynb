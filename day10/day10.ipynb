{
 "cells": [
  {
   "cell_type": "code",
   "execution_count": 1,
   "id": "f1d9ca3f",
   "metadata": {},
   "outputs": [],
   "source": [
    "import numpy as np\n",
    "import re"
   ]
  },
  {
   "cell_type": "markdown",
   "id": "4eaabe42",
   "metadata": {},
   "source": [
    "### Functions"
   ]
  },
  {
   "cell_type": "code",
   "execution_count": 2,
   "id": "180d1e6b",
   "metadata": {},
   "outputs": [],
   "source": [
    "def readlines(path:str):\n",
    "    with open(path, 'r') as f:\n",
    "        data = [x.strip() for x in f.readlines()]\n",
    "    return data"
   ]
  },
  {
   "cell_type": "code",
   "execution_count": 3,
   "id": "f539f0e9",
   "metadata": {},
   "outputs": [],
   "source": [
    "def calculateSolution1(data):\n",
    "    pointMap={\n",
    "        \")\": 3 ,\n",
    "        \"]\": 57 ,\n",
    "        \"}\": 1197 ,\n",
    "        \">\": 25137 \n",
    "    }\n",
    "    \n",
    "    suM=0\n",
    "    for d in data:\n",
    "        l=0\n",
    "        while(l!=len(d)):\n",
    "            l=len(d)\n",
    "            d = d.replace(\"()\", \"\");\n",
    "            d = d.replace(\"{}\", \"\");\n",
    "            d = d.replace(\"[]\", \"\");\n",
    "            d = d.replace(\"<>\", \"\");\n",
    "\n",
    "        s = re.search(\"[\\)\\}\\]\\>]\",d)\n",
    "        if s : \n",
    "            suM+=pointMap[s.group()]\n",
    "\n",
    "    return suM"
   ]
  },
  {
   "cell_type": "code",
   "execution_count": 4,
   "id": "76c004ad",
   "metadata": {},
   "outputs": [],
   "source": [
    "def calculateSolution2(data):\n",
    "    \n",
    "    pointMap={\n",
    "        \"(\": 1 ,\n",
    "        \"[\": 2 ,\n",
    "        \"{\": 3 ,\n",
    "        \"<\": 4 \n",
    "    }\n",
    "    \n",
    "    result=[]\n",
    "    \n",
    "    for d in data:\n",
    "        l=0\n",
    "        while(l!=len(d)):\n",
    "            l=len(d)\n",
    "            d = d.replace(\"()\", \"\");\n",
    "            d = d.replace(\"{}\", \"\");\n",
    "            d = d.replace(\"[]\", \"\");\n",
    "            d = d.replace(\"<>\", \"\");\n",
    "\n",
    "        s = re.search(\"[\\)\\}\\]\\>]\",d)\n",
    "        if not s: \n",
    "            suM=0\n",
    "            for x in reversed(d):\n",
    "                suM*=5\n",
    "                suM+=pointMap[x]\n",
    "    \n",
    "            result.append(suM)\n",
    "            \n",
    "    \n",
    "    return np.median(result).astype(np.int64)"
   ]
  },
  {
   "cell_type": "markdown",
   "id": "23ca0df4",
   "metadata": {},
   "source": [
    "### Load data"
   ]
  },
  {
   "cell_type": "code",
   "execution_count": 5,
   "id": "7a9b636c",
   "metadata": {},
   "outputs": [],
   "source": [
    "testdata=readlines(\"data/test10.txt\")\n",
    "data=readlines(\"data/data10.txt\")"
   ]
  },
  {
   "cell_type": "markdown",
   "id": "fae02f46",
   "metadata": {},
   "source": [
    "### Tests"
   ]
  },
  {
   "cell_type": "code",
   "execution_count": 6,
   "id": "67787c5f",
   "metadata": {},
   "outputs": [],
   "source": [
    "assert calculateSolution1(testdata)==26397\n",
    "assert calculateSolution2(testdata)==288957"
   ]
  },
  {
   "cell_type": "markdown",
   "id": "90dcd8fa",
   "metadata": {},
   "source": [
    "### Solution 1"
   ]
  },
  {
   "cell_type": "code",
   "execution_count": 7,
   "id": "bb89065e",
   "metadata": {},
   "outputs": [
    {
     "data": {
      "text/plain": [
       "316851"
      ]
     },
     "execution_count": 7,
     "metadata": {},
     "output_type": "execute_result"
    }
   ],
   "source": [
    "calculateSolution1(data)"
   ]
  },
  {
   "cell_type": "markdown",
   "id": "26f9e04f",
   "metadata": {},
   "source": [
    "### Solution 2"
   ]
  },
  {
   "cell_type": "code",
   "execution_count": 8,
   "id": "6bf50a5e",
   "metadata": {},
   "outputs": [
    {
     "data": {
      "text/plain": [
       "2182912364"
      ]
     },
     "execution_count": 8,
     "metadata": {},
     "output_type": "execute_result"
    }
   ],
   "source": [
    "calculateSolution2(data)"
   ]
  }
 ],
 "metadata": {
  "kernelspec": {
   "display_name": "Python 3 (ipykernel)",
   "language": "python",
   "name": "python3"
  },
  "language_info": {
   "codemirror_mode": {
    "name": "ipython",
    "version": 3
   },
   "file_extension": ".py",
   "mimetype": "text/x-python",
   "name": "python",
   "nbconvert_exporter": "python",
   "pygments_lexer": "ipython3",
   "version": "3.8.8"
  }
 },
 "nbformat": 4,
 "nbformat_minor": 5
}
